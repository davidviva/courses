{
 "cells": [
  {
   "cell_type": "markdown",
   "metadata": {},
   "source": [
    "## Arguments\n",
    "* Arguments are passed by automatically assigning objects to local variable names.\n",
    "* Assigning to argument names inside a function does not affect the caller.\n",
    "* Changing a mutable object argument in a function may impact the caller.\n",
    "* Immutable arguments are effectively passed “by value.” \n",
    "* Mutable arguments are effectively passed “by pointer.”"
   ]
  },
  {
   "cell_type": "code",
   "execution_count": null,
   "metadata": {
    "collapsed": true
   },
   "outputs": [],
   "source": [
    "def f(a): \n",
    "    a = 99\n",
    "b = 88\n",
    "f(b)\n",
    "print(b)              # 88"
   ]
  },
  {
   "cell_type": "code",
   "execution_count": null,
   "metadata": {
    "collapsed": true
   },
   "outputs": [],
   "source": [
    "def changer(a, b): \n",
    "    a= 2\n",
    "    b[0] = 'spam'\n",
    "\n",
    "X = 1\n",
    "L = [1, 2] \n",
    "changer(X, L)\n",
    "X, L                  # (1, ['spam', 2])"
   ]
  },
  {
   "cell_type": "code",
   "execution_count": null,
   "metadata": {
    "collapsed": true
   },
   "outputs": [],
   "source": [
    "def changer(a, b):\n",
    "    b = b[:]       # Copy input list so we don't impact caller \n",
    "    a= 2\n",
    "    b[0] = 'spam'"
   ]
  },
  {
   "cell_type": "code",
   "execution_count": null,
   "metadata": {
    "collapsed": true
   },
   "outputs": [],
   "source": [
    "# Multiple results\n",
    "def multiple(x, y): \n",
    "    x = 2\n",
    "    y = [3, 4] \n",
    "    return x, y\n",
    "\n",
    "X = 1\n",
    "L = [1, 2]\n",
    "X, L = multiple(X, L)\n",
    "X, L                      # (2, [3, 4])"
   ]
  },
  {
   "cell_type": "markdown",
   "metadata": {},
   "source": [
    "## Argument Matching Basics\n",
    "* Positionals: matched from left to right\n",
    "* Keywords: matched by argument name\n",
    "* Defaults: specify values for optional arguments that aren’t passed\n",
    "* Varargs collecting: collect arbitrarily many positional or keyword arguments\n",
    "* Varargs unpacking: pass arbitrarily many positional or keyword arguments\n",
    "* Keyword-only arguments: arguments that must be passed by name"
   ]
  },
  {
   "cell_type": "code",
   "execution_count": null,
   "metadata": {
    "collapsed": true
   },
   "outputs": [],
   "source": [
    "Image here $$$$$"
   ]
  },
  {
   "cell_type": "code",
   "execution_count": null,
   "metadata": {
    "collapsed": true
   },
   "outputs": [],
   "source": [
    "def f(a, b, c): print(a, b, c)\n",
    "f(1, 2, 3)\n",
    "f(c=3, b=2, a=1)\n",
    "f(1, c=3, b=2)"
   ]
  },
  {
   "cell_type": "code",
   "execution_count": null,
   "metadata": {
    "collapsed": true
   },
   "outputs": [],
   "source": [
    "def f(a, b=2, c=3): print(a, b, c)\n",
    "f(1)\n",
    "f(a=1)\n",
    "f(1, 4)        # Override defaults 1 4 3\n",
    "f(1, 4, 5)\n",
    "f(1, c=6)"
   ]
  },
  {
   "cell_type": "code",
   "execution_count": null,
   "metadata": {
    "collapsed": true
   },
   "outputs": [],
   "source": [
    "def func(spam, eggs, toast=0, ham=0):   # First 2 required\n",
    "    print((spam, eggs, toast, ham)) \n",
    "    \n",
    "func(1, 2)                          # Output: (1, 2, 0, 0)\n",
    "func(1, ham=1, eggs=0)              # Output: (1, 0, 0, 1)\n",
    "func(spam=1, eggs=0)                # Output: (1, 0, 0, 0)\n",
    "func(toast=1, eggs=2, spam=3)       # Output: (3, 2, 1, 0) \n",
    "func(1, 2, 3, 4)                    # Output: (1, 2, 3, 4)"
   ]
  },
  {
   "cell_type": "code",
   "execution_count": null,
   "metadata": {
    "collapsed": true
   },
   "outputs": [],
   "source": [
    "# Arbitrary Arguments \n",
    "def f(*args): print(args)\n",
    "f()                    # ()\n",
    "f(1)                   # (1,)\n",
    "f(1, 2, 3, 4)\n",
    "\n",
    "def f(**args): print(args)\n",
    "f()                    # {}\n",
    "f(a=1, b=2)\n",
    "\n",
    "def f(a, *pargs, **kargs): print(a, pargs, kargs)\n",
    "f(1, 2, 3, x=1, y=2)"
   ]
  },
  {
   "cell_type": "code",
   "execution_count": null,
   "metadata": {
    "collapsed": true
   },
   "outputs": [],
   "source": [
    "# Unpacking arguments\n",
    "def func(a, b, c, d): print(a, b, c, d)\n",
    "args = (1, 2)\n",
    "args += (3, 4)\n",
    "func(*args)\n",
    "\n",
    "args = {'a': 1, 'b': 2, 'c': 3,'d':4}\n",
    "func(**args)"
   ]
  },
  {
   "cell_type": "markdown",
   "metadata": {},
   "source": [
    "## Keyword only Arguments"
   ]
  },
  {
   "cell_type": "code",
   "execution_count": null,
   "metadata": {
    "collapsed": true
   },
   "outputs": [],
   "source": [
    "def kwonly(a, *b, c): \n",
    "    print(a, b, c)\n",
    "kwonly(1, 2, c=3)      # 1 (2,) 3\n",
    "kwonly(a=1, c=3)       # 1 () 3\n",
    "kwonly(1, 2, 3)        # TypeError: kwonly() missing 1 required keyword-only argument: 'c'"
   ]
  },
  {
   "cell_type": "code",
   "execution_count": null,
   "metadata": {
    "collapsed": true
   },
   "outputs": [],
   "source": [
    "def kwonly(a, *, b, c): \n",
    "    print(a, b, c)\n",
    "kwonly(1, c=3, b=2) \n",
    "kwonly(c=3, b=2, a=1)"
   ]
  },
  {
   "cell_type": "code",
   "execution_count": null,
   "metadata": {
    "collapsed": true
   },
   "outputs": [],
   "source": [
    "def kwonly(a, *, b='spam', c='ham'): \n",
    "    print(a, b, c)\n",
    "    \n",
    "kwonly(1)\n",
    "# 1 spam ham\n",
    "kwonly(1, c=3)\n",
    "# 1 spam 3\n",
    "kwonly(a=1)\n",
    "# 1 spam ham\n",
    "kwonly(c=3, b=2, a=1)\n",
    "# 1 2 3"
   ]
  },
  {
   "cell_type": "code",
   "execution_count": null,
   "metadata": {
    "collapsed": true
   },
   "outputs": [],
   "source": [
    "def kwonly(a, **pargs, b, c):    # invalid syntax\n",
    "    \n",
    "def f(a, *b, **d, c=6): print(a, b, c, d) # SyntaxError: invalid syntax\n",
    "def f(a, *b, c=6, **d): \n",
    "    print(a, b, c, d) \n",
    "\n",
    "f(1, 2, 3, x=4, y=5)        # 1 (2, 3) 6 {'y': 5, 'x': 4}\n",
    "\n",
    "f(1, 2, 3, x=4, y=5, c=7)   # 1 (2, 3) 7 {'y': 5, 'x': 4}\n"
   ]
  },
  {
   "cell_type": "markdown",
   "metadata": {},
   "source": [
    "##  Function Design Concepts\n",
    "* Coupling: use arguments for inputs and return for outputs\n",
    "* Coupling: use global variables only when truly necessary\n",
    "* Coupling: don’t change mutable arguments unless the caller expects it.\n",
    "* Cohesion: each function should have a single, unified purpose.\n",
    "* Size: each function should be relatively small. \n",
    "* Coupling: avoid changing variables in another module file directly."
   ]
  },
  {
   "cell_type": "markdown",
   "metadata": {},
   "source": []
  },
  {
   "cell_type": "code",
   "execution_count": null,
   "metadata": {
    "collapsed": true
   },
   "outputs": [],
   "source": []
  },
  {
   "cell_type": "code",
   "execution_count": null,
   "metadata": {
    "collapsed": true
   },
   "outputs": [],
   "source": []
  },
  {
   "cell_type": "code",
   "execution_count": null,
   "metadata": {
    "collapsed": true
   },
   "outputs": [],
   "source": []
  },
  {
   "cell_type": "code",
   "execution_count": null,
   "metadata": {
    "collapsed": true
   },
   "outputs": [],
   "source": []
  }
 ],
 "metadata": {
  "kernelspec": {
   "display_name": "Python [Root]",
   "language": "python",
   "name": "Python [Root]"
  },
  "language_info": {
   "codemirror_mode": {
    "name": "ipython",
    "version": 3
   },
   "file_extension": ".py",
   "mimetype": "text/x-python",
   "name": "python",
   "nbconvert_exporter": "python",
   "pygments_lexer": "ipython3",
   "version": "3.5.2"
  }
 },
 "nbformat": 4,
 "nbformat_minor": 0
}
