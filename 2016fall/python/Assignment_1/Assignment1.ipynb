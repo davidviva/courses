{
 "cells": [
  {
   "cell_type": "code",
   "execution_count": null,
   "metadata": {
    "collapsed": true
   },
   "outputs": [],
   "source": [
    "Question1:"
   ]
  },
  {
   "cell_type": "code",
   "execution_count": 4,
   "metadata": {
    "collapsed": false
   },
   "outputs": [
    {
     "name": "stdout",
     "output_type": "stream",
     "text": [
      "[21, 42, 63, 84, 105, 126, 147, 168, 189, 210, 231, 252, 273, 294, 315, 336, 357, 378, 399, 420, 441, 462, 483]\n"
     ]
    }
   ],
   "source": [
    "L = []\n",
    "count = 1\n",
    "while 21 * count < 500: \n",
    "    L.append(21 * count)\n",
    "    count = count + 1\n",
    "print (L)"
   ]
  },
  {
   "cell_type": "code",
   "execution_count": 5,
   "metadata": {
    "collapsed": false
   },
   "outputs": [
    {
     "name": "stdout",
     "output_type": "stream",
     "text": [
      "252.0\n",
      "136.5\n",
      "252\n",
      "367.5\n"
     ]
    }
   ],
   "source": [
    "num = len(L)\n",
    "sum = 0\n",
    "for element in iter(L):\n",
    "    sum += element\n",
    "mean = sum / num\n",
    "print(mean)\n",
    "\n",
    "len1 = (num + 1) // 2\n",
    "if len1 % 2 == 0:\n",
    "    quartile25 = (L[len1 // 2] + L[len1 // 2 - 1]) / 2\n",
    "if len1 % 2 == 1:\n",
    "    quartile25 = L[(len1 - 1) // 2]\n",
    "print(quartile25)\n",
    "\n",
    "if num % 2 == 0:\n",
    "    quartile50 = (L[num // 2] + L[num // 2 - 1]) / 2\n",
    "if num % 2 == 1:\n",
    "    quartile50 = L[(num - 1) // 2]\n",
    "print(quartile50)\n",
    "\n",
    "if len1 % 2 == 0:\n",
    "    quartile75 = (L[len1 // 2 + len1 - 1] + L[len1 // 2 - 1 + len1 - 1]) / 2\n",
    "if len1 % 2 == 1:\n",
    "    quartile75 = L[(len1 - 1 + len1 - 1) // 2]\n",
    "print(quartile75)"
   ]
  },
  {
   "cell_type": "code",
   "execution_count": null,
   "metadata": {
    "collapsed": true
   },
   "outputs": [],
   "source": [
    "Question2:"
   ]
  },
  {
   "cell_type": "code",
   "execution_count": 10,
   "metadata": {
    "collapsed": false
   },
   "outputs": [
    {
     "name": "stdout",
     "output_type": "stream",
     "text": [
      "309\n"
     ]
    }
   ],
   "source": [
    "file=open(\"ques2.txt\",\"r\")\n",
    "wordcount=0\n",
    "for word in file.read().split():\n",
    "    wordcount += 1\n",
    "print (wordcount);\n",
    "file.close()"
   ]
  },
  {
   "cell_type": "code",
   "execution_count": 14,
   "metadata": {
    "collapsed": false
   },
   "outputs": [
    {
     "name": "stdout",
     "output_type": "stream",
     "text": [
      "ave = 6.393782383419689\n",
      "median = 6\n",
      "mode = 4\n"
     ]
    }
   ],
   "source": [
    "file=open(\"ques2.txt\",\"r\")\n",
    "wordLengthDic = {}\n",
    "for word in file.read().split():\n",
    "    if word not in wordLengthDic:\n",
    "        wordLengthDic[word] = len(word)\n",
    "file.close()\n",
    "\n",
    "visit = wordLengthDic.values()\n",
    "length = len(visit)\n",
    "total = 0\n",
    "for element in iter(visit):\n",
    "    total += element  \n",
    "print (\"ave = \" + str(total / float(length)))\n",
    "\n",
    "median = 0\n",
    "visit = sorted(visit)\n",
    "mid = length // 2\n",
    "if len(visit) % 2:\n",
    "    median = visit[mid]\n",
    "else:\n",
    "    median = (visit[mid] + visit[mid - 1]) / 2\n",
    "print (\"median = \" + str(median))\n",
    "\n",
    "\n",
    "freq={} \n",
    "for i in range(length): \n",
    "    try: \n",
    "        freq[visit[i]] += 1 \n",
    "    except KeyError: freq[visit[i]] = 1 \n",
    "\n",
    "max = 0\n",
    "mode = 0\n",
    "for (k, v) in freq.items(): \n",
    "    if v > max: \n",
    "        max = v \n",
    "        mode = k \n",
    "print(\"mode = \" + str(mode))\n",
    "    "
   ]
  },
  {
   "cell_type": "code",
   "execution_count": null,
   "metadata": {
    "collapsed": true
   },
   "outputs": [],
   "source": [
    "Question3:"
   ]
  },
  {
   "cell_type": "code",
   "execution_count": 15,
   "metadata": {
    "collapsed": false
   },
   "outputs": [
    {
     "name": "stdout",
     "output_type": "stream",
     "text": [
      "877\n",
      "wIVBvcOM1AOKvM5\n",
      "AshLxCP91BMmJS2\n",
      "w4L1PuLh1BlhP35\n",
      "Vrjd5vpq1Advbq5\n",
      "gBr8fmVa1BMbRD5\n"
     ]
    }
   ],
   "source": [
    "import os, json\n",
    "import random\n",
    "\n",
    "count = 0\n",
    "d = {}\n",
    "path = 'jsons'\n",
    "files = [pos_json for pos_json in os.listdir(path) if pos_json.endswith('.json')]\n",
    "for file in files:\n",
    "    with open(os.path.join(path, file)) as json_file:\n",
    "        data = json.load(json_file)\n",
    "        value= data.get(\"name\")\n",
    "        if (value == 'User Not Found'):\n",
    "            userId = data.get(\"message\")\n",
    "            if userId is not None:\n",
    "                userId = userId[13:]\n",
    "            count += 1\n",
    "            d[userId] = 0\n",
    "        else:\n",
    "            userId = data.get(\"dxId\")\n",
    "            d[userId] = 1\n",
    "print(count)\n",
    "# for (k, v) in d.items():\n",
    "#      print(k, v)\n",
    "    \n",
    "for i in range(0, 5):\n",
    "    print(random.choice(list(d.keys())))"
   ]
  },
  {
   "cell_type": "code",
   "execution_count": null,
   "metadata": {
    "collapsed": true
   },
   "outputs": [],
   "source": [
    "Question4:"
   ]
  },
  {
   "cell_type": "code",
   "execution_count": 3,
   "metadata": {
    "collapsed": false
   },
   "outputs": [
    {
     "name": "stdout",
     "output_type": "stream",
     "text": [
      "key: BiStK9rA1zT5VS5 value: {'third': 1955, 'first': 394}\n",
      "key: AlZxopEB1zvi8R2 value: {'third': 0, 'first': 0}\n",
      "key: weVqUCw31BGWoq5 value: {'third': 0, 'first': 0}\n",
      "key: qB1Kuw8K1BMkMb2 value: {'third': 0, 'first': 0}\n",
      "key: AccoGpwU1BMvn42 value: {'third': 0, 'first': 1}\n"
     ]
    }
   ],
   "source": [
    "import os, json\n",
    "import random\n",
    "\n",
    "d = {}\n",
    "path = 'jsons'\n",
    "files = [pos_json for pos_json in os.listdir(path) if pos_json.endswith('.json')]\n",
    "\n",
    "count = 0\n",
    "for file in files:\n",
    "    party1 = 0;\n",
    "    party3 = 0;\n",
    "    with open(os.path.join(path, file)) as json_file:\n",
    "        data = json.load(json_file)\n",
    "        value= data.get(\"name\")\n",
    "        if (value == 'User Not Found'):\n",
    "            userId = data.get(\"message\")\n",
    "            if userId is not None:\n",
    "                userId = userId[13:]\n",
    "        else:\n",
    "            userId = data.get(\"dxId\")\n",
    "            \n",
    "        segmentUidList = data.get(\"retargetingSegments\")\n",
    "        if segmentUidList is not None:\n",
    "            userId = data.get(\"dxId\")\n",
    "            for each in segmentUidList:\n",
    "                segmentUid = each.get(\"segmentUid\")\n",
    "                start = int(segmentUid[0])\n",
    "                if (start == 0):\n",
    "                    party1 = party1 + 1\n",
    "                elif (start == 1):\n",
    "                    party3 = party3 + 1\n",
    "        d[userId] = {}\n",
    "        d[userId][\"first\"] = party1\n",
    "        d[userId][\"third\"] = party3\n",
    "        count = count + party1 + party3\n",
    "   \n",
    "for i in range(0, 5):\n",
    "    key = random.choice(list(d.keys()))\n",
    "    value = d[key]\n",
    "    print(\"key: \" + str(key) + \" value: \" + str(value))"
   ]
  },
  {
   "cell_type": "code",
   "execution_count": null,
   "metadata": {
    "collapsed": true
   },
   "outputs": [],
   "source": []
  }
 ],
 "metadata": {
  "anaconda-cloud": {},
  "kernelspec": {
   "display_name": "Python [Root]",
   "language": "python",
   "name": "Python [Root]"
  },
  "language_info": {
   "codemirror_mode": {
    "name": "ipython",
    "version": 3
   },
   "file_extension": ".py",
   "mimetype": "text/x-python",
   "name": "python",
   "nbconvert_exporter": "python",
   "pygments_lexer": "ipython3",
   "version": "3.5.2"
  }
 },
 "nbformat": 4,
 "nbformat_minor": 0
}
